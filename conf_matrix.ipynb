{
  "nbformat": 4,
  "nbformat_minor": 0,
  "metadata": {
    "colab": {
      "name": "conf_matrix.ipynb",
      "provenance": []
    },
    "kernelspec": {
      "name": "python3",
      "display_name": "Python 3"
    }
  },
  "cells": [
    {
      "cell_type": "code",
      "metadata": {
        "id": "QAIkA2ZBpnc8"
      },
      "source": [
        "import torch\n",
        "from torch.utils.data import DataLoader\n",
        "import matplotlib.pyplot as plt"
      ],
      "execution_count": 1,
      "outputs": []
    },
    {
      "cell_type": "markdown",
      "metadata": {
        "id": "Zk7IL-omo9vh"
      },
      "source": [
        "### **Building a Confusion Matrix** ###"
      ]
    },
    {
      "cell_type": "code",
      "metadata": {
        "id": "hWa26E6tpC64"
      },
      "source": [
        "@torch.no_grad()\n",
        "def get_all_preds(model, loader):\n",
        "    all_preds = torch.tensor([])\n",
        "    for batch in loader:\n",
        "        images, labels = batch\n",
        "        \n",
        "        preds = model(images)\n",
        "        all_preds = torch.cat(\n",
        "            (all_preds, preds),\n",
        "            dim=0\n",
        "        )\n",
        "    return all_preds"
      ],
      "execution_count": null,
      "outputs": []
    },
    {
      "cell_type": "code",
      "metadata": {
        "id": "LJw9XR11pLvB"
      },
      "source": [
        "prediction_loader = torch.utils.data.DataLoader(train_set, batch_size=10000)\n",
        "train_preds = get_all_preds(network, train_loader)"
      ],
      "execution_count": null,
      "outputs": []
    },
    {
      "cell_type": "code",
      "metadata": {
        "id": "uepkIDDdpOKy"
      },
      "source": [
        "stacked = torch.stack(\n",
        "    (\n",
        "        train_set.targets,\n",
        "        train_preds.argmax(dim=1)\n",
        "    ),\n",
        "    dim=1\n",
        ")"
      ],
      "execution_count": null,
      "outputs": []
    },
    {
      "cell_type": "code",
      "metadata": {
        "id": "OvhgzUBQpQh7"
      },
      "source": [
        "conf_mt = torch.zeros(10,10, dtype=torch.int32)\n",
        "\n",
        "for p in stacked:\n",
        "    true_lab, pred_lab = p.tolist()\n",
        "    conf_mt[true_lab, pred_lab] = conf_mt[true_lab, pred_lab] + 1"
      ],
      "execution_count": null,
      "outputs": []
    },
    {
      "cell_type": "markdown",
      "metadata": {
        "id": "zPNEeBwhpTzF"
      },
      "source": [
        "##### **Alternative way to create a Confusion Matrix** #####"
      ]
    },
    {
      "cell_type": "code",
      "metadata": {
        "id": "Ve7ax6MOpX8f"
      },
      "source": [
        "# from sklearn.metrics import confusion_matrix\n",
        "\n",
        "# conf_mt = confusion_matrix(train_set.targets, train_preds.argmax(dim=1))"
      ],
      "execution_count": null,
      "outputs": []
    },
    {
      "cell_type": "markdown",
      "metadata": {
        "id": "UPAlutRxpbYE"
      },
      "source": [
        "### **Plotting a Confusion Matrix** ###"
      ]
    },
    {
      "cell_type": "code",
      "metadata": {
        "id": "6yzB5PXNpeCF"
      },
      "source": [
        "def plot_confusion_matrix(cm, classes, normalize=False, \n",
        "                          title='Confusion matrix', cmap=plt.cm.Blues):\n",
        "    if normalize:\n",
        "        cm = cm.astype('float') / cm.sum(axis=1)[:, np.newaxis]\n",
        "        print(\"Normalized confusion matrix\")\n",
        "    else:\n",
        "        print('Confusion matrix, without normalization')\n",
        "\n",
        "    print(cm)\n",
        "    plt.imshow(cm, interpolation='nearest', cmap=cmap)\n",
        "    plt.title(title)\n",
        "    plt.colorbar()\n",
        "    tick_marks = np.arange(len(classes))\n",
        "    plt.xticks(tick_marks, classes, rotation=45)\n",
        "    plt.yticks(tick_marks, classes)\n",
        "\n",
        "    fmt = '.2f' if normalize else 'd'\n",
        "    thresh = cm.max() / 2.\n",
        "    for i, j in itertools.product(range(cm.shape[0]), range(cm.shape[1])):\n",
        "                          plt.text(j, i, format(cm[i, j], fmt), \n",
        "                          horizontalalignment=\"center\",\n",
        "                          color=\"white\" if cm[i, j] > thresh else \"black\")\n",
        "\n",
        "    plt.tight_layout()\n",
        "    plt.ylabel('True label')\n",
        "    plt.xlabel('Predicted label')"
      ],
      "execution_count": null,
      "outputs": []
    },
    {
      "cell_type": "code",
      "metadata": {
        "id": "0iiOvUvaphm8"
      },
      "source": [
        "plt.figure(figsize=(10,10))\n",
        "plot_confusion_matrix(conf_mt, train_set.classes)"
      ],
      "execution_count": null,
      "outputs": []
    }
  ]
}