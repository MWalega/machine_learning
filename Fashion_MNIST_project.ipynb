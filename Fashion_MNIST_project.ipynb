{
  "nbformat": 4,
  "nbformat_minor": 0,
  "metadata": {
    "colab": {
      "name": "Fashion_MNIST_project.ipynb",
      "provenance": [],
      "collapsed_sections": [],
      "toc_visible": true
    },
    "kernelspec": {
      "name": "python3",
      "display_name": "Python 3"
    },
    "accelerator": "GPU"
  },
  "cells": [
    {
      "cell_type": "code",
      "metadata": {
        "id": "1TfydguKjfEh"
      },
      "source": [
        "import torch\n",
        "import torchvision\n",
        "import torchvision.transforms as transforms\n",
        "import torch.nn as nn\n",
        "import torch.nn.functional as F\n",
        "import torch.optim as optim\n",
        "\n",
        "from torch.utils.tensorboard import SummaryWriter\n",
        "from torch.utils.data import DataLoader\n",
        "from IPython.display import display, clear_output\n",
        "import pandas as pd\n",
        "import time\n",
        "import json\n",
        "\n",
        "from collections import OrderedDict\n",
        "from collections import namedtuple\n",
        "from itertools import product\n",
        "\n",
        "import numpy as np\n",
        "import matplotlib.pyplot as plt\n",
        "\n",
        "torch.set_printoptions(linewidth=90)\n",
        "%load_ext tensorboard\n",
        "!pip install pytorch-lr-finder\n",
        "import pytorch_lr_finder as lr_finder"
      ],
      "execution_count": null,
      "outputs": []
    },
    {
      "cell_type": "code",
      "metadata": {
        "colab": {
          "base_uri": "https://localhost:8080/"
        },
        "id": "L624_JWrVIdg",
        "outputId": "cbcb3146-ee71-4e79-80c3-01116c480286"
      },
      "source": [
        "torch.cuda.is_available()"
      ],
      "execution_count": 3,
      "outputs": [
        {
          "output_type": "execute_result",
          "data": {
            "text/plain": [
              "True"
            ]
          },
          "metadata": {
            "tags": []
          },
          "execution_count": 3
        }
      ]
    },
    {
      "cell_type": "code",
      "metadata": {
        "id": "MhXpV3ehkoe7"
      },
      "source": [
        "train_set = torchvision.datasets.FashionMNIST(\n",
        "    root='./data/FashionMNIST',\n",
        "    train=True,\n",
        "    download=True,\n",
        "    transform=transforms.Compose([\n",
        "        transforms.ToTensor()\n",
        "    ])\n",
        ")"
      ],
      "execution_count": null,
      "outputs": []
    },
    {
      "cell_type": "code",
      "metadata": {
        "id": "HD3sBvICkwrc"
      },
      "source": [
        "class LeNet(nn.Module):\n",
        "  def __init__(self):\n",
        "    super(LeNet, self).__init__()\n",
        "    self.relu = nn.ReLU()\n",
        "    self.pool = nn.AvgPool2d(kernel_size=(2,2), stride=(2,2))\n",
        "    self.conv1 = nn.Conv2d(in_channels=1, out_channels=6, kernel_size=(5,5),\n",
        "                           stride=(1,1), padding=(2,2))\n",
        "    self.conv2 = nn.Conv2d(in_channels=6, out_channels=16, kernel_size=(5,5),\n",
        "                           stride=(1,1), padding=(0,0))\n",
        "    self.conv3 = nn.Conv2d(in_channels=16, out_channels=120, kernel_size=(5,5),\n",
        "                           stride=(1,1), padding=(0,0))\n",
        "    self.linear1 = nn.Linear(in_features=120, out_features=84)\n",
        "    self.linear2 = nn.Linear(in_features=84, out_features=10)\n",
        "\n",
        "  def forward(self, t):\n",
        "    t = self.relu(self.conv1(t))\n",
        "    t = self.pool(t)\n",
        "    t = self.relu(self.conv2(t))\n",
        "    t = self.pool(t)\n",
        "    t = self.relu(self.conv3(t))\n",
        "    t = t.reshape(t.shape[0], -1)\n",
        "    t = self.relu(self.linear1(t))\n",
        "    t = self.linear2(t)\n",
        "\n",
        "    return t"
      ],
      "execution_count": 5,
      "outputs": []
    },
    {
      "cell_type": "code",
      "metadata": {
        "id": "YABTkkb7k2AN"
      },
      "source": [
        "def get_num_correct(preds, labels):\n",
        "    return preds.argmax(dim=1).eq(labels).sum().item()"
      ],
      "execution_count": 6,
      "outputs": []
    },
    {
      "cell_type": "code",
      "metadata": {
        "id": "qsoq3fxrk6Qo"
      },
      "source": [
        "class RunBuilder():\n",
        "    @staticmethod\n",
        "    def get_runs(params):\n",
        "        \n",
        "        Run = namedtuple('Run', params.keys())\n",
        "        \n",
        "        runs = []\n",
        "        for v in product(*params.values()):\n",
        "            runs.append(Run(*v))\n",
        "        \n",
        "        return runs"
      ],
      "execution_count": 7,
      "outputs": []
    },
    {
      "cell_type": "code",
      "metadata": {
        "id": "fuLqCCqQk9dB"
      },
      "source": [
        "class RunManager():\n",
        "    def __init__(self):\n",
        "        \n",
        "        self.epoch_count = 0\n",
        "        self.epoch_loss = 0\n",
        "        self.epoch_num_correct = 0\n",
        "        self.epoch_start_time = None\n",
        "        \n",
        "        self.run_params = None\n",
        "        self.run_count = 0\n",
        "        self.run_data = []\n",
        "        self.run_start_time = None\n",
        "        \n",
        "        self.network = None\n",
        "        self.loader = None\n",
        "        self.tb = None\n",
        "        \n",
        "    def begin_run(self, run, network, loader):\n",
        "        \n",
        "        self.run_start_time = time.time()\n",
        "        \n",
        "        self.run_params = run\n",
        "        self.run_count += 1\n",
        "        \n",
        "        self.network = network\n",
        "        self.loader = loader\n",
        "        self.tb = SummaryWriter(comment=f'-{run}')\n",
        "        \n",
        "        images, labels = next(iter(self.loader))\n",
        "        grid = torchvision.utils.make_grid(images)\n",
        "        \n",
        "        self.tb.add_image('images', grid)\n",
        "        self.tb.add_graph(\n",
        "            self.network,\n",
        "            images.to(getattr(run, 'device', 'cpu'))\n",
        "            )\n",
        "        \n",
        "    def end_run(self):\n",
        "        self.tb.close()\n",
        "        self.epoch_count = 0\n",
        "        \n",
        "    def begin_epoch(self):\n",
        "        self.epoch_start_time = time.time()\n",
        "        self.epoch_count += 1\n",
        "        self.epoch_loss = 0\n",
        "        self.epoch_num_correct = 0\n",
        "    \n",
        "    def end_epoch(self):\n",
        "        \n",
        "        epoch_duration = time.time() - self.epoch_start_time\n",
        "        run_duration = time.time() - self.run_start_time\n",
        "        \n",
        "        loss = self.epoch_loss / len(self.loader.dataset)\n",
        "        accuracy = self.epoch_num_correct / len(self.loader.dataset)\n",
        "        \n",
        "        self.tb.add_scalar('Loss', loss, self.epoch_count)\n",
        "        self.tb.add_scalar('Accuracy', accuracy, self.epoch_count)\n",
        "        \n",
        "        for name, param in self.network.named_parameters():\n",
        "            self.tb.add_histogram(name, param, self.epoch_count)\n",
        "            self.tb.add_histogram(f'{name}.grad', param.grad, self.epoch_count)\n",
        "            \n",
        "        results = OrderedDict()\n",
        "        results['run'] = self.run_count\n",
        "        results['epoch'] = self.epoch_count\n",
        "        results['loss'] = loss\n",
        "        results['accuracy'] = accuracy\n",
        "        results['epoch_duration'] = epoch_duration\n",
        "        results['run_duration'] = run_duration\n",
        "        for k,v in self.run_params._asdict().items(): results[k] = v\n",
        "        self.run_data.append(results)\n",
        "        df = pd.DataFrame.from_dict(self.run_data, orient='columns')\n",
        "        \n",
        "        clear_output(wait=True)\n",
        "        display(df)\n",
        "        \n",
        "    def track_loss(self, loss):\n",
        "        self.epoch_loss += loss.item() * self.loader.batch_size\n",
        "        \n",
        "    def track_num_correct(self, preds, labels):\n",
        "        self.epoch_num_correct += self._get_num_correct(preds, labels)\n",
        "        \n",
        "    @torch.no_grad()\n",
        "    def _get_num_correct(self, preds, labels):\n",
        "        return preds.argmax(dim=1).eq(labels).sum().item()\n",
        "    \n",
        "    def save(self, fileName):\n",
        "        \n",
        "        pd.DataFrame.from_dict(\n",
        "            self.run_data,\n",
        "            orient='columns'\n",
        "        ).to_csv(f'{fileName}.csv')\n",
        "        \n",
        "        with open(f'{fileName}.json', 'w', encoding='utf-8') as f:\n",
        "            json.dump(self.run_data, f, ensure_ascii=False, indent=4)"
      ],
      "execution_count": 8,
      "outputs": []
    },
    {
      "cell_type": "code",
      "metadata": {
        "colab": {
          "base_uri": "https://localhost:8080/",
          "height": 336
        },
        "id": "OW0-JDcxQjvJ",
        "outputId": "9186c732-7cfe-413c-e3e7-e83a4b7e5387"
      },
      "source": [
        "train_loader = DataLoader(\n",
        "          train_set,\n",
        "          batch_size=64,\n",
        "          shuffle=True\n",
        "    )\n",
        "\n",
        "model = LeNet()\n",
        "criterion = nn.CrossEntropyLoss()\n",
        "optimizer = optim.Adam(model.parameters())\n",
        "lrf = lr_finder.LearningRateFinder(model, criterion, optimizer)\n",
        "lrf.fit(train_loader)\n",
        "lrf.plot()"
      ],
      "execution_count": 9,
      "outputs": [
        {
          "output_type": "stream",
          "text": [
            "\n",
            "\n"
          ],
          "name": "stdout"
        },
        {
          "output_type": "display_data",
          "data": {
            "image/png": "[encoded data removed]",
            "text/plain": [
              "<Figure size 432x288 with 1 Axes>"
            ]
          },
          "metadata": {
            "tags": [],
            "needs_background": "light"
          }
        }
      ]
    },
    {
      "cell_type": "code",
      "metadata": {
        "id": "Hc_3mJqrlEBY"
      },
      "source": [
        "params = OrderedDict(\n",
        "    lr=[5e-3,1e-2],\n",
        "    batch_size=[64,1000],\n",
        "    shuffle=[True],\n",
        "    num_workers=[0,1],\n",
        "    device=['cuda'] \n",
        ")\n",
        "\n",
        "m = RunManager()\n",
        "for run in RunBuilder.get_runs(params):\n",
        "    \n",
        "    device = torch.device(run.device)\n",
        "    network = LeNet().to(device)\n",
        "    loader = DataLoader(\n",
        "        train_set,\n",
        "        batch_size = run.batch_size,\n",
        "        shuffle = run.shuffle,\n",
        "        num_workers = run.num_workers\n",
        "    )\n",
        "    optimizer = optim.Adam(\n",
        "        network.parameters(), lr=run.lr\n",
        "    )\n",
        "    \n",
        "    m.begin_run(run, network, loader)\n",
        "    for epoch in range(5):\n",
        "        m.begin_epoch()\n",
        "        for batch in loader:\n",
        "            \n",
        "            images = batch[0].to(device)\n",
        "            labels = batch[1].to(device)\n",
        "            preds = network(images)\n",
        "            loss = F.cross_entropy(preds, labels)\n",
        "            optimizer.zero_grad()\n",
        "            loss.backward()\n",
        "            optimizer.step()\n",
        "            \n",
        "            m.track_loss(loss)\n",
        "            m.track_num_correct(preds, labels)\n",
        "            \n",
        "        m.end_epoch()\n",
        "    m.end_run()\n",
        "m.save('results')"
      ],
      "execution_count": null,
      "outputs": []
    },
    {
      "cell_type": "code",
      "metadata": {
        "id": "D6VuRhbBlKm3"
      },
      "source": [
        "%tensorboard --logdir=runs"
      ],
      "execution_count": null,
      "outputs": []
    }
  ]
}